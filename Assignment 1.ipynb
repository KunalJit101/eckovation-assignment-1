{
 "cells": [
  {
   "cell_type": "code",
   "execution_count": 1,
   "metadata": {},
   "outputs": [],
   "source": [
    "import pandas as pd\n",
    "import numpy as np\n",
    "import matplotlib.pyplot as plt\n",
    "import seaborn as sns\n",
    "%matplotlib inline"
   ]
  },
  {
   "cell_type": "code",
   "execution_count": 2,
   "metadata": {},
   "outputs": [],
   "source": [
    "df = pd.read_csv('PCA_practice_dataset.csv')"
   ]
  },
  {
   "cell_type": "code",
   "execution_count": 3,
   "metadata": {},
   "outputs": [
    {
     "name": "stdout",
     "output_type": "stream",
     "text": [
      "      -3.125000000000000000e-02  2.363639999999999908e-01  \\\n",
      "0                     -0.031250                  0.309091   \n",
      "1                     -0.031250                  0.381818   \n",
      "2                     -0.031250                  0.381818   \n",
      "3                     -0.031250                  0.381818   \n",
      "4                     -0.031250                  0.381818   \n",
      "...                         ...                       ...   \n",
      "8036                   0.088958                  0.016323   \n",
      "8037                  -0.243556                 -0.092159   \n",
      "8038                  -0.136975                 -0.068480   \n",
      "8039                  -0.163077                 -0.090909   \n",
      "8040                  -0.166118                 -0.164594   \n",
      "\n",
      "      2.380950000000000011e-01  -9.090910000000000657e-02  \\\n",
      "0                     0.380952                   0.074380   \n",
      "1                     0.261905                  -0.107438   \n",
      "2                     0.285714                  -0.123967   \n",
      "3                     0.357143                  -0.024793   \n",
      "4                     0.357143                  -0.024793   \n",
      "...                        ...                        ...   \n",
      "8036                 -0.213069                  -0.376970   \n",
      "8037                 -0.477827                  -0.536054   \n",
      "8038                 -0.466067                  -0.504132   \n",
      "8039                 -0.476190                  -0.517050   \n",
      "8040                 -0.556392                  -0.647674   \n",
      "\n",
      "      0.000000000000000000e+00  3.818179999999999907e-01  \\\n",
      "0                     0.129032                  0.472727   \n",
      "1                     0.000000                  0.527273   \n",
      "2                    -0.129032                  0.309091   \n",
      "3                    -0.096774                  0.454545   \n",
      "4                     0.000000                  0.381818   \n",
      "...                        ...                       ...   \n",
      "8036                  0.117490                  0.074181   \n",
      "8037                 -0.094557                 -0.092159   \n",
      "8038                 -0.006181                 -0.054545   \n",
      "8039                 -0.096774                 -0.090909   \n",
      "8040                 -0.169776                 -0.150238   \n",
      "\n",
      "      3.263159999999999950e-01  -1.562500000000000000e-02  \\\n",
      "0                     0.557895                   0.078125   \n",
      "1                     0.326316                   0.046875   \n",
      "2                     0.073684                  -0.156250   \n",
      "3                     0.431579                  -0.015625   \n",
      "4                     0.431579                  -0.015625   \n",
      "...                        ...                        ...   \n",
      "8036                 -0.182175                  -0.286841   \n",
      "8037                 -0.411973                  -0.498926   \n",
      "8038                 -0.233154                  -0.409244   \n",
      "8039                 -0.359223                  -0.437500   \n",
      "8040                 -0.585595                  -0.604441   \n",
      "\n",
      "      -1.250000000000000000e-01  5.533979999999999455e-01  ...  \\\n",
      "0                     -0.031250                  0.398058  ...   \n",
      "1                     -0.031250                  0.631068  ...   \n",
      "2                      0.093750                  0.398058  ...   \n",
      "3                     -0.250000                  0.398058  ...   \n",
      "4                     -0.031250                  0.553398  ...   \n",
      "...                         ...                       ...  ...   \n",
      "8036                   0.213958                  0.240733  ...   \n",
      "8037                  -0.122852                 -0.027792  ...   \n",
      "8038                  -0.061188                 -0.067961  ...   \n",
      "8039                  -0.250000                 -0.029126  ...   \n",
      "8040                  -0.166118                 -0.067961  ...   \n",
      "\n",
      "      5.769229999999999636e-01  4.712640000000000162e-01  \\\n",
      "0                     0.519231                  0.425287   \n",
      "1                     0.384615                  0.103448   \n",
      "2                     0.519231                  0.425287   \n",
      "3                     0.480769                  0.471264   \n",
      "4                     0.480769                  0.471264   \n",
      "...                        ...                       ...   \n",
      "8036                 -0.120300                 -0.329808   \n",
      "8037                  0.077584                 -0.261208   \n",
      "8038                 -0.168585                 -0.566658   \n",
      "8039                  0.130414                 -0.292378   \n",
      "8040                  0.056679                 -0.333333   \n",
      "\n",
      "      -3.333330000000000320e-02  -4.615380000000000177e-02  \\\n",
      "0                      0.000000                   0.138462   \n",
      "1                     -0.250000                  -0.138462   \n",
      "2                     -0.050000                  -0.107692   \n",
      "3                     -0.033333                  -0.169231   \n",
      "4                     -0.033333                  -0.046154   \n",
      "...                         ...                        ...   \n",
      "8036                  -0.370927                  -0.015385   \n",
      "8037                  -0.527032                  -0.012212   \n",
      "8038                  -0.532634                  -0.279224   \n",
      "8039                  -0.450000                  -0.052876   \n",
      "8040                  -0.577192                  -0.138462   \n",
      "\n",
      "      5.247519999999999962e-01  4.105260000000000020e-01  \\\n",
      "0                     0.663366                  0.368421   \n",
      "1                     0.425743                  0.263158   \n",
      "2                     0.485149                  0.368421   \n",
      "3                     0.524752                  0.515789   \n",
      "4                     0.623762                  0.515789   \n",
      "...                        ...                       ...   \n",
      "8036                  0.135798                 -0.234572   \n",
      "8037                  0.188800                 -0.260264   \n",
      "8038                 -0.223097                 -0.539991   \n",
      "8039                  0.029703                 -0.288810   \n",
      "8040                  0.002605                 -0.268696   \n",
      "\n",
      "      -1.562500000000000000e-02.2  -1.875000000000000000e-01.1  \\\n",
      "0                        0.015625                     0.125000   \n",
      "1                       -0.109375                    -0.031250   \n",
      "2                       -0.031250                    -0.250000   \n",
      "3                       -0.015625                    -0.281250   \n",
      "4                        0.046875                     0.062500   \n",
      "...                           ...                          ...   \n",
      "8036                    -0.281250                     0.093750   \n",
      "8037                    -0.405176                    -0.032324   \n",
      "8038                    -0.534244                    -0.181512   \n",
      "8039                    -0.406250                    -0.031250   \n",
      "8040                    -0.505757                    -0.126647   \n",
      "\n",
      "      4.951459999999999750e-01  5.157890000000000530e-01  \n",
      "0                     0.533981                  0.368421  \n",
      "1                     0.650485                  0.452632  \n",
      "2                     0.203883                  0.094737  \n",
      "3                     0.495146                  0.410526  \n",
      "4                     0.592233                  0.410526  \n",
      "...                        ...                       ...  \n",
      "8036                  0.058469                 -0.158971  \n",
      "8037                  0.009709                 -0.263158  \n",
      "8038                 -0.053079                 -0.416328  \n",
      "8039                  0.087379                 -0.263158  \n",
      "8040                 -0.070008                 -0.326316  \n",
      "\n",
      "[8041 rows x 35 columns]\n"
     ]
    }
   ],
   "source": [
    "print(df)"
   ]
  },
  {
   "cell_type": "code",
   "execution_count": 4,
   "metadata": {},
   "outputs": [],
   "source": [
    "from sklearn.preprocessing import StandardScaler"
   ]
  },
  {
   "cell_type": "code",
   "execution_count": 6,
   "metadata": {},
   "outputs": [
    {
     "data": {
      "text/plain": [
       "StandardScaler()"
      ]
     },
     "execution_count": 6,
     "metadata": {},
     "output_type": "execute_result"
    }
   ],
   "source": [
    "scaler = StandardScaler()\n",
    "scaler.fit(df)"
   ]
  },
  {
   "cell_type": "code",
   "execution_count": 7,
   "metadata": {},
   "outputs": [],
   "source": [
    "scaled_data = scaler.transform(df)"
   ]
  },
  {
   "cell_type": "code",
   "execution_count": 8,
   "metadata": {},
   "outputs": [],
   "source": [
    "from sklearn.decomposition import PCA"
   ]
  },
  {
   "cell_type": "code",
   "execution_count": 9,
   "metadata": {},
   "outputs": [],
   "source": [
    "pca = PCA(n_components=10)"
   ]
  },
  {
   "cell_type": "code",
   "execution_count": 10,
   "metadata": {},
   "outputs": [
    {
     "data": {
      "text/plain": [
       "PCA(n_components=10)"
      ]
     },
     "execution_count": 10,
     "metadata": {},
     "output_type": "execute_result"
    }
   ],
   "source": [
    "pca.fit(scaled_data)"
   ]
  },
  {
   "cell_type": "code",
   "execution_count": 11,
   "metadata": {},
   "outputs": [],
   "source": [
    "x_pca = pca.transform(scaled_data)"
   ]
  },
  {
   "cell_type": "code",
   "execution_count": 12,
   "metadata": {},
   "outputs": [
    {
     "data": {
      "text/plain": [
       "(8041, 35)"
      ]
     },
     "execution_count": 12,
     "metadata": {},
     "output_type": "execute_result"
    }
   ],
   "source": [
    "scaled_data.shape"
   ]
  },
  {
   "cell_type": "code",
   "execution_count": 13,
   "metadata": {},
   "outputs": [
    {
     "data": {
      "text/plain": [
       "(8041, 10)"
      ]
     },
     "execution_count": 13,
     "metadata": {},
     "output_type": "execute_result"
    }
   ],
   "source": [
    "x_pca.shape"
   ]
  },
  {
   "cell_type": "code",
   "execution_count": 14,
   "metadata": {},
   "outputs": [
    {
     "name": "stdout",
     "output_type": "stream",
     "text": [
      "[[-1.34751615 -4.13320176  1.21024532 ... -0.08527591  0.20056666\n",
      "  -0.2281864 ]\n",
      " [-1.55689216 -3.22075605  1.82520863 ... -0.17252505 -0.11371202\n",
      "  -0.37797356]\n",
      " [-1.35242643 -2.52488252  1.68020452 ...  0.05124269 -0.39138541\n",
      "   0.43419943]\n",
      " ...\n",
      " [-2.10355099  4.30869293 -0.03494148 ... -0.21218044  0.09806993\n",
      "   0.06517261]\n",
      " [-2.25373915  3.31621901  0.089069   ... -0.06031573  0.02676537\n",
      "   0.08960286]\n",
      " [-2.50462166  4.36179781  0.07225881 ... -0.03794721 -0.13165222\n",
      "   0.06104626]]\n"
     ]
    }
   ],
   "source": [
    "print(x_pca)"
   ]
  },
  {
   "cell_type": "code",
   "execution_count": 15,
   "metadata": {},
   "outputs": [],
   "source": [
    "cov_mat = np.cov(x_pca)"
   ]
  },
  {
   "cell_type": "code",
   "execution_count": 16,
   "metadata": {},
   "outputs": [],
   "source": [
    "eig_val,eig_vec = np.linalg.eig(cov_mat)"
   ]
  },
  {
   "cell_type": "code",
   "execution_count": 17,
   "metadata": {},
   "outputs": [
    {
     "name": "stdout",
     "output_type": "stream",
     "text": [
      "eigen values for the dataset are [ 1.44103178e+04+0.00000000e+00j  1.03821067e+04+0.00000000e+00j\n",
      "  9.73334825e+02+0.00000000e+00j ... -8.62347747e-17+1.89415096e-16j\n",
      " -8.62347747e-17-1.89415096e-16j  6.32530062e-17+0.00000000e+00j]\n"
     ]
    }
   ],
   "source": [
    "print(\"eigen values for the dataset are {}\".format(eig_val))"
   ]
  },
  {
   "cell_type": "code",
   "execution_count": 18,
   "metadata": {},
   "outputs": [
    {
     "data": {
      "text/plain": [
       "Text(0, 0.5, 'Second Principal Component')"
      ]
     },
     "execution_count": 18,
     "metadata": {},
     "output_type": "execute_result"
    },
    {
     "data": {
      "image/png": "[encoded data removed]",
      "text/plain": [
       "<Figure size 720x576 with 1 Axes>"
      ]
     },
     "metadata": {
      "needs_background": "light"
     },
     "output_type": "display_data"
    }
   ],
   "source": [
    "plt.figure(figsize=(10,8))\n",
    "plt.scatter(x_pca[:,0],x_pca[:,1],cmap='plasma')\n",
    "plt.xlabel('First principal component')\n",
    "plt.ylabel('Second Principal Component')"
   ]
  },
  {
   "cell_type": "code",
   "execution_count": 19,
   "metadata": {},
   "outputs": [
    {
     "data": {
      "text/plain": [
       "array([[-0.20138189, -0.19704399,  0.07686953,  0.16585286, -0.20273847,\n",
       "        -0.19695399,  0.07966346,  0.16761459, -0.19740342, -0.19057128,\n",
       "         0.0813616 ,  0.16384621, -0.20342442, -0.20060455,  0.07902115,\n",
       "         0.17008367, -0.20723278, -0.20279139,  0.08330035,  0.17401227,\n",
       "        -0.20367845, -0.19862047,  0.08441926,  0.17086716, -0.19714012,\n",
       "        -0.19508289,  0.0762555 ,  0.1647014 , -0.20129862, -0.19834095,\n",
       "         0.07890672,  0.16761018, -0.20018702, -0.19597239,  0.07906958],\n",
       "       [-0.10221227, -0.12069311, -0.23850589, -0.17345842, -0.10655793,\n",
       "        -0.12354161, -0.24253846, -0.1758308 , -0.10518968, -0.12081885,\n",
       "        -0.23566226, -0.16986259, -0.10493086, -0.12298456, -0.24521126,\n",
       "        -0.17884749, -0.10939783, -0.12634436, -0.24923989, -0.18036309,\n",
       "        -0.10820953, -0.1237493 , -0.24244254, -0.17420802, -0.10036257,\n",
       "        -0.11926209, -0.23635947, -0.17146736, -0.10549402, -0.12276822,\n",
       "        -0.24040453, -0.17420002, -0.1037233 , -0.12088662, -0.23525196],\n",
       "       [-0.23136319,  0.21812902,  0.03364356, -0.07698626, -0.21460693,\n",
       "         0.24003731,  0.03610066, -0.08404897, -0.19840819,  0.25172468,\n",
       "         0.03882586, -0.08297747, -0.26212304,  0.19435644,  0.03320286,\n",
       "        -0.0674682 , -0.24460131,  0.21602957,  0.0390815 , -0.07212252,\n",
       "        -0.22194046,  0.23413692,  0.04547989, -0.07413555, -0.28620999,\n",
       "         0.1654425 ,  0.04088997, -0.0457324 , -0.27162093,  0.18391287,\n",
       "         0.05033442, -0.04574777, -0.24569374,  0.20585157,  0.0603342 ],\n",
       "       [-0.09631461, -0.05301387,  0.14862992,  0.19235705, -0.15765936,\n",
       "        -0.11553748,  0.22604754,  0.29863495, -0.19673265, -0.15265326,\n",
       "         0.24262068,  0.32200612,  0.02269712,  0.07404107, -0.05586499,\n",
       "        -0.07514226, -0.01043196,  0.03860567, -0.01514594, -0.00767442,\n",
       "        -0.05398831, -0.01053482,  0.02883861,  0.06208159,  0.13144325,\n",
       "         0.19005188, -0.27421072, -0.34492276,  0.11089813,  0.16654044,\n",
       "        -0.25921468, -0.31084272,  0.06027383,  0.11476244, -0.18220603],\n",
       "       [-0.159052  , -0.12550679, -0.1877747 , -0.09813687, -0.266175  ,\n",
       "        -0.22735638, -0.22419523, -0.08498587, -0.31677599, -0.27254125,\n",
       "        -0.2087582 , -0.05010666,  0.04589078,  0.07988617,  0.0182308 ,\n",
       "        -0.00606168, -0.02320653,  0.00815111,  0.00169687,  0.01122521,\n",
       "        -0.08754181, -0.06101743, -0.01109422,  0.0347287 ,  0.26114253,\n",
       "         0.30115917,  0.2262787 ,  0.07218588,  0.23429026,  0.26498525,\n",
       "         0.23230259,  0.09325778,  0.1505535 ,  0.17738513,  0.18385747],\n",
       "       [ 0.12251699,  0.13059828,  0.35952945,  0.27596252,  0.00546905,\n",
       "         0.01283015,  0.04211764,  0.01798774, -0.11358746, -0.09099495,\n",
       "        -0.24091525, -0.19793398,  0.14010967,  0.15790466,  0.31146368,\n",
       "         0.22645746, -0.00850763,  0.00837215, -0.00858776, -0.02415075,\n",
       "        -0.15705356, -0.12510216, -0.33390085, -0.27136926,  0.10971927,\n",
       "         0.13661114,  0.17437156,  0.10433904, -0.02447725,  0.00396093,\n",
       "        -0.06270949, -0.06125703, -0.16748139, -0.13309998, -0.31090561],\n",
       "       [ 0.333861  ,  0.31705756, -0.10590223, -0.24261467,  0.09151333,\n",
       "         0.07755384, -0.00834905, -0.02939052, -0.15794779, -0.14127645,\n",
       "         0.07323122,  0.14981283,  0.25970341,  0.25456842, -0.08861815,\n",
       "        -0.20347036,  0.00216157,  0.00754214, -0.01351999,  0.00137527,\n",
       "        -0.27803436, -0.25192992,  0.12165728,  0.2542835 ,  0.09943706,\n",
       "         0.10727387, -0.01310911, -0.06459985, -0.08937136, -0.07783247,\n",
       "         0.02099228,  0.05314446, -0.30601932, -0.28304259,  0.10537436],\n",
       "       [-0.00292046,  0.02154826, -0.25895395, -0.2482179 , -0.00177483,\n",
       "         0.02183735, -0.04278901, -0.01547344, -0.02897432, -0.00622886,\n",
       "         0.35530539,  0.3641236 , -0.04365668, -0.0207806 ,  0.11412148,\n",
       "         0.08279245,  0.01066241,  0.02926667, -0.15916686, -0.18312636,\n",
       "         0.02359992,  0.02028803, -0.06356765, -0.03162283, -0.02614199,\n",
       "        -0.02168191,  0.41149323,  0.3686677 ,  0.01581224,  0.0180314 ,\n",
       "        -0.10007982, -0.13420015,  0.03883996,  0.03481827, -0.42757286],\n",
       "       [ 0.29867124,  0.28034815,  0.15805128, -0.03131788,  0.11374049,\n",
       "         0.0427273 ,  0.00079559, -0.0126754 , -0.31867377, -0.35623385,\n",
       "        -0.12708653,  0.08428635, -0.10940133, -0.05324592,  0.01741896,\n",
       "         0.00675098,  0.06296893,  0.07793073, -0.01622594, -0.07335197,\n",
       "        -0.01980936, -0.06468171, -0.05978557,  0.00746587, -0.38957637,\n",
       "        -0.32920234, -0.09121699,  0.0774499 ,  0.02399236,  0.06964053,\n",
       "         0.02681634, -0.0353513 ,  0.34673838,  0.30286993,  0.08215175],\n",
       "       [ 0.03002965,  0.01969388, -0.2463211 , -0.16331831,  0.00551717,\n",
       "         0.00942232, -0.19918197, -0.11412841, -0.03969662, -0.02339915,\n",
       "        -0.15147464, -0.08778042, -0.02131006,  0.03673534,  0.30374926,\n",
       "         0.27176793,  0.03019552,  0.04846006,  0.45789982,  0.37860824,\n",
       "         0.02091324,  0.01860244,  0.2297344 ,  0.19551667, -0.04996952,\n",
       "        -0.00450424, -0.17508793, -0.08738588, -0.01655824,  0.02127631,\n",
       "        -0.23270648, -0.12157175,  0.01517576,  0.03701036, -0.31259271]])"
      ]
     },
     "execution_count": 19,
     "metadata": {},
     "output_type": "execute_result"
    }
   ],
   "source": [
    "pca.components_"
   ]
  },
  {
   "cell_type": "code",
   "execution_count": null,
   "metadata": {},
   "outputs": [],
   "source": []
  }
 ],
 "metadata": {
  "kernelspec": {
   "display_name": "Python 3",
   "language": "python",
   "name": "python3"
  },
  "language_info": {
   "codemirror_mode": {
    "name": "ipython",
    "version": 3
   },
   "file_extension": ".py",
   "mimetype": "text/x-python",
   "name": "python",
   "nbconvert_exporter": "python",
   "pygments_lexer": "ipython3",
   "version": "3.8.3"
  }
 },
 "nbformat": 4,
 "nbformat_minor": 4
}
